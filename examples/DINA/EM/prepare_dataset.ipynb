{
 "cells": [
  {
   "cell_type": "code",
   "execution_count": 1,
   "metadata": {},
   "outputs": [
    {
     "name": "stderr",
     "output_type": "stream",
     "text": [
      "downloader, INFO http://staff.ustc.edu.cn/~qiliuql/data/math2015.rar is saved as ..\\..\\..\\data\\math2015.rar\n"
     ]
    },
    {
     "name": "stdout",
     "output_type": "stream",
     "text": [
      "Downloading ..\\..\\..\\data\\math2015.rar 100.00%: 113229 | 113229\n",
      "..\\..\\..\\data\\math2015.rar is unrar to ..\\..\\..\\data\\math2015\n"
     ]
    },
    {
     "ename": "RarCannotExec",
     "evalue": "Cannot find working tool",
     "output_type": "error",
     "traceback": [
      "\u001B[1;31m---------------------------------------------------------------------------\u001B[0m",
      "\u001B[1;31mRarCannotExec\u001B[0m                             Traceback (most recent call last)",
      "\u001B[1;32m<ipython-input-1-699c0572d223>\u001B[0m in \u001B[0;36m<module>\u001B[1;34m\u001B[0m\n\u001B[0;32m      2\u001B[0m \u001B[1;32mfrom\u001B[0m \u001B[0mEduData\u001B[0m \u001B[1;32mimport\u001B[0m \u001B[0mget_data\u001B[0m\u001B[1;33m\u001B[0m\u001B[1;33m\u001B[0m\u001B[0m\n\u001B[0;32m      3\u001B[0m \u001B[1;33m\u001B[0m\u001B[0m\n\u001B[1;32m----> 4\u001B[1;33m \u001B[0mget_data\u001B[0m\u001B[1;33m(\u001B[0m\u001B[1;34m\"math2015\"\u001B[0m\u001B[1;33m,\u001B[0m \u001B[1;34m\"../../../data\"\u001B[0m\u001B[1;33m)\u001B[0m\u001B[1;33m\u001B[0m\u001B[1;33m\u001B[0m\u001B[0m\n\u001B[0m\u001B[0;32m      5\u001B[0m \u001B[1;33m\u001B[0m\u001B[0m\n",
      "\u001B[1;32me:\\program\\edudata\\EduData\\DataSet\\download_data\\download_data.py\u001B[0m in \u001B[0;36mget_data\u001B[1;34m(dataset, data_dir, override, url_dict)\u001B[0m\n\u001B[0;32m    228\u001B[0m \u001B[1;33m\u001B[0m\u001B[0m\n\u001B[0;32m    229\u001B[0m     \u001B[1;32mtry\u001B[0m\u001B[1;33m:\u001B[0m\u001B[1;33m\u001B[0m\u001B[1;33m\u001B[0m\u001B[0m\n\u001B[1;32m--> 230\u001B[1;33m         \u001B[1;32mreturn\u001B[0m \u001B[0mdownload_data\u001B[0m\u001B[1;33m(\u001B[0m\u001B[0murl\u001B[0m\u001B[1;33m,\u001B[0m \u001B[0mdata_dir\u001B[0m\u001B[1;33m,\u001B[0m \u001B[0moverride\u001B[0m\u001B[1;33m)\u001B[0m\u001B[1;33m\u001B[0m\u001B[1;33m\u001B[0m\u001B[0m\n\u001B[0m\u001B[0;32m    231\u001B[0m     \u001B[1;32mexcept\u001B[0m \u001B[0mFileExistsError\u001B[0m\u001B[1;33m:\u001B[0m\u001B[1;33m\u001B[0m\u001B[1;33m\u001B[0m\u001B[0m\n\u001B[0;32m    232\u001B[0m         \u001B[1;32mreturn\u001B[0m \u001B[0msave_path\u001B[0m\u001B[1;33m\u001B[0m\u001B[1;33m\u001B[0m\u001B[0m\n",
      "\u001B[1;32me:\\program\\edudata\\EduData\\DataSet\\download_data\\download_data.py\u001B[0m in \u001B[0;36mdownload_data\u001B[1;34m(url, data_dir, override, bloom_filter)\u001B[0m\n\u001B[0;32m    191\u001B[0m         \u001B[0mos\u001B[0m\u001B[1;33m.\u001B[0m\u001B[0mmakedirs\u001B[0m\u001B[1;33m(\u001B[0m\u001B[0mdata_dir\u001B[0m\u001B[1;33m,\u001B[0m \u001B[0mexist_ok\u001B[0m\u001B[1;33m=\u001B[0m\u001B[1;32mTrue\u001B[0m\u001B[1;33m)\u001B[0m\u001B[1;33m\u001B[0m\u001B[1;33m\u001B[0m\u001B[0m\n\u001B[0;32m    192\u001B[0m         \u001B[0msave_path\u001B[0m \u001B[1;33m=\u001B[0m \u001B[0mpath_append\u001B[0m\u001B[1;33m(\u001B[0m\u001B[0mdata_dir\u001B[0m\u001B[1;33m,\u001B[0m \u001B[0murl\u001B[0m\u001B[1;33m.\u001B[0m\u001B[0msplit\u001B[0m\u001B[1;33m(\u001B[0m\u001B[1;34m'/'\u001B[0m\u001B[1;33m)\u001B[0m\u001B[1;33m[\u001B[0m\u001B[1;33m-\u001B[0m\u001B[1;36m1\u001B[0m\u001B[1;33m]\u001B[0m\u001B[1;33m,\u001B[0m \u001B[0mto_str\u001B[0m\u001B[1;33m=\u001B[0m\u001B[1;32mTrue\u001B[0m\u001B[1;33m)\u001B[0m\u001B[1;33m\u001B[0m\u001B[1;33m\u001B[0m\u001B[0m\n\u001B[1;32m--> 193\u001B[1;33m         \u001B[0mdownload_file\u001B[0m\u001B[1;33m(\u001B[0m\u001B[0murl\u001B[0m\u001B[1;33m,\u001B[0m \u001B[0msave_path\u001B[0m\u001B[1;33m,\u001B[0m \u001B[0moverride\u001B[0m\u001B[1;33m)\u001B[0m\u001B[1;33m\u001B[0m\u001B[1;33m\u001B[0m\u001B[0m\n\u001B[0m\u001B[0;32m    194\u001B[0m         \u001B[0mbloom_filter\u001B[0m\u001B[1;33m.\u001B[0m\u001B[0madd\u001B[0m\u001B[1;33m(\u001B[0m\u001B[0murl\u001B[0m\u001B[1;33m)\u001B[0m\u001B[1;33m\u001B[0m\u001B[1;33m\u001B[0m\u001B[0m\n\u001B[0;32m    195\u001B[0m \u001B[1;33m\u001B[0m\u001B[0m\n",
      "\u001B[1;32me:\\program\\edudata\\EduData\\DataSet\\download_data\\download_data.py\u001B[0m in \u001B[0;36mdownload_file\u001B[1;34m(url, save_path, override, chunksize)\u001B[0m\n\u001B[0;32m    162\u001B[0m     \u001B[1;31m# urlretrieve(url, save_path, reporthook=reporthook4urlretrieve)\u001B[0m\u001B[1;33m\u001B[0m\u001B[1;33m\u001B[0m\u001B[1;33m\u001B[0m\u001B[0m\n\u001B[0;32m    163\u001B[0m     \u001B[0mprint\u001B[0m\u001B[1;33m(\u001B[0m\u001B[1;33m)\u001B[0m\u001B[1;33m\u001B[0m\u001B[1;33m\u001B[0m\u001B[0m\n\u001B[1;32m--> 164\u001B[1;33m     \u001B[0mdecompress\u001B[0m\u001B[1;33m(\u001B[0m\u001B[0msave_path\u001B[0m\u001B[1;33m)\u001B[0m\u001B[1;33m\u001B[0m\u001B[1;33m\u001B[0m\u001B[0m\n\u001B[0m\u001B[0;32m    165\u001B[0m \u001B[1;33m\u001B[0m\u001B[0m\n\u001B[0;32m    166\u001B[0m \u001B[1;33m\u001B[0m\u001B[0m\n",
      "\u001B[1;32me:\\program\\edudata\\EduData\\DataSet\\download_data\\utils.py\u001B[0m in \u001B[0;36mdecompress\u001B[1;34m(file)\u001B[0m\n\u001B[0;32m     14\u001B[0m                 \u001B[0mun_zip\u001B[0m\u001B[1;33m(\u001B[0m\u001B[0mfile\u001B[0m\u001B[1;33m)\u001B[0m\u001B[1;33m\u001B[0m\u001B[1;33m\u001B[0m\u001B[0m\n\u001B[0;32m     15\u001B[0m             \u001B[1;32melif\u001B[0m \u001B[0mz\u001B[0m \u001B[1;33m==\u001B[0m \u001B[1;34m\".rar\"\u001B[0m\u001B[1;33m:\u001B[0m\u001B[1;33m\u001B[0m\u001B[1;33m\u001B[0m\u001B[0m\n\u001B[1;32m---> 16\u001B[1;33m                 \u001B[0mun_rar\u001B[0m\u001B[1;33m(\u001B[0m\u001B[0mfile\u001B[0m\u001B[1;33m)\u001B[0m\u001B[1;33m\u001B[0m\u001B[1;33m\u001B[0m\u001B[0m\n\u001B[0m\u001B[0;32m     17\u001B[0m             \u001B[1;32melse\u001B[0m\u001B[1;33m:\u001B[0m\u001B[1;33m\u001B[0m\u001B[1;33m\u001B[0m\u001B[0m\n\u001B[0;32m     18\u001B[0m                 \u001B[0mun_tar\u001B[0m\u001B[1;33m(\u001B[0m\u001B[0mfile\u001B[0m\u001B[1;33m)\u001B[0m\u001B[1;33m\u001B[0m\u001B[1;33m\u001B[0m\u001B[0m\n",
      "\u001B[1;32me:\\program\\edudata\\EduData\\DataSet\\download_data\\utils.py\u001B[0m in \u001B[0;36mun_rar\u001B[1;34m(file)\u001B[0m\n\u001B[0;32m     39\u001B[0m     \u001B[0muz_path\u001B[0m \u001B[1;33m=\u001B[0m \u001B[0mget_path\u001B[0m\u001B[1;33m(\u001B[0m\u001B[0mfile\u001B[0m\u001B[1;33m)\u001B[0m\u001B[1;33m\u001B[0m\u001B[1;33m\u001B[0m\u001B[0m\n\u001B[0;32m     40\u001B[0m     \u001B[0mprint\u001B[0m\u001B[1;33m(\u001B[0m\u001B[0mfile\u001B[0m \u001B[1;33m+\u001B[0m \u001B[1;34m\" is unrar to \"\u001B[0m \u001B[1;33m+\u001B[0m \u001B[0muz_path\u001B[0m\u001B[1;33m)\u001B[0m\u001B[1;33m\u001B[0m\u001B[1;33m\u001B[0m\u001B[0m\n\u001B[1;32m---> 41\u001B[1;33m     \u001B[0mrar_file\u001B[0m\u001B[1;33m.\u001B[0m\u001B[0mextractall\u001B[0m\u001B[1;33m(\u001B[0m\u001B[0muz_path\u001B[0m\u001B[1;33m)\u001B[0m\u001B[1;33m\u001B[0m\u001B[1;33m\u001B[0m\u001B[0m\n\u001B[0m\u001B[0;32m     42\u001B[0m \u001B[1;33m\u001B[0m\u001B[0m\n\u001B[0;32m     43\u001B[0m \u001B[1;33m\u001B[0m\u001B[0m\n",
      "\u001B[1;32md:\\env\\python3.8\\lib\\site-packages\\rarfile.py\u001B[0m in \u001B[0;36mextractall\u001B[1;34m(self, path, members, pwd)\u001B[0m\n\u001B[0;32m    845\u001B[0m         \u001B[1;32mfor\u001B[0m \u001B[0mm\u001B[0m \u001B[1;32min\u001B[0m \u001B[0mmembers\u001B[0m\u001B[1;33m:\u001B[0m\u001B[1;33m\u001B[0m\u001B[1;33m\u001B[0m\u001B[0m\n\u001B[0;32m    846\u001B[0m             \u001B[0minf\u001B[0m \u001B[1;33m=\u001B[0m \u001B[0mself\u001B[0m\u001B[1;33m.\u001B[0m\u001B[0mgetinfo\u001B[0m\u001B[1;33m(\u001B[0m\u001B[0mm\u001B[0m\u001B[1;33m)\u001B[0m\u001B[1;33m\u001B[0m\u001B[1;33m\u001B[0m\u001B[0m\n\u001B[1;32m--> 847\u001B[1;33m             \u001B[0mdst\u001B[0m \u001B[1;33m=\u001B[0m \u001B[0mself\u001B[0m\u001B[1;33m.\u001B[0m\u001B[0m_extract_one\u001B[0m\u001B[1;33m(\u001B[0m\u001B[0minf\u001B[0m\u001B[1;33m,\u001B[0m \u001B[0mpath\u001B[0m\u001B[1;33m,\u001B[0m \u001B[0mpwd\u001B[0m\u001B[1;33m,\u001B[0m \u001B[1;32mnot\u001B[0m \u001B[0minf\u001B[0m\u001B[1;33m.\u001B[0m\u001B[0mis_dir\u001B[0m\u001B[1;33m(\u001B[0m\u001B[1;33m)\u001B[0m\u001B[1;33m)\u001B[0m\u001B[1;33m\u001B[0m\u001B[1;33m\u001B[0m\u001B[0m\n\u001B[0m\u001B[0;32m    848\u001B[0m             \u001B[1;32mif\u001B[0m \u001B[0minf\u001B[0m\u001B[1;33m.\u001B[0m\u001B[0mis_dir\u001B[0m\u001B[1;33m(\u001B[0m\u001B[1;33m)\u001B[0m\u001B[1;33m:\u001B[0m\u001B[1;33m\u001B[0m\u001B[1;33m\u001B[0m\u001B[0m\n\u001B[0;32m    849\u001B[0m                 \u001B[1;32mif\u001B[0m \u001B[0mdst\u001B[0m \u001B[1;32mnot\u001B[0m \u001B[1;32min\u001B[0m \u001B[0mdone\u001B[0m\u001B[1;33m:\u001B[0m\u001B[1;33m\u001B[0m\u001B[1;33m\u001B[0m\u001B[0m\n",
      "\u001B[1;32md:\\env\\python3.8\\lib\\site-packages\\rarfile.py\u001B[0m in \u001B[0;36m_extract_one\u001B[1;34m(self, info, path, pwd, set_attrs)\u001B[0m\n\u001B[0;32m    910\u001B[0m \u001B[1;33m\u001B[0m\u001B[0m\n\u001B[0;32m    911\u001B[0m         \u001B[1;32mif\u001B[0m \u001B[0minfo\u001B[0m\u001B[1;33m.\u001B[0m\u001B[0mis_file\u001B[0m\u001B[1;33m(\u001B[0m\u001B[1;33m)\u001B[0m\u001B[1;33m:\u001B[0m\u001B[1;33m\u001B[0m\u001B[1;33m\u001B[0m\u001B[0m\n\u001B[1;32m--> 912\u001B[1;33m             \u001B[1;32mreturn\u001B[0m \u001B[0mself\u001B[0m\u001B[1;33m.\u001B[0m\u001B[0m_make_file\u001B[0m\u001B[1;33m(\u001B[0m\u001B[0minfo\u001B[0m\u001B[1;33m,\u001B[0m \u001B[0mdstfn\u001B[0m\u001B[1;33m,\u001B[0m \u001B[0mpwd\u001B[0m\u001B[1;33m,\u001B[0m \u001B[0mset_attrs\u001B[0m\u001B[1;33m)\u001B[0m\u001B[1;33m\u001B[0m\u001B[1;33m\u001B[0m\u001B[0m\n\u001B[0m\u001B[0;32m    913\u001B[0m         \u001B[1;32mif\u001B[0m \u001B[0minfo\u001B[0m\u001B[1;33m.\u001B[0m\u001B[0mis_dir\u001B[0m\u001B[1;33m(\u001B[0m\u001B[1;33m)\u001B[0m\u001B[1;33m:\u001B[0m\u001B[1;33m\u001B[0m\u001B[1;33m\u001B[0m\u001B[0m\n\u001B[0;32m    914\u001B[0m             \u001B[1;32mreturn\u001B[0m \u001B[0mself\u001B[0m\u001B[1;33m.\u001B[0m\u001B[0m_make_dir\u001B[0m\u001B[1;33m(\u001B[0m\u001B[0minfo\u001B[0m\u001B[1;33m,\u001B[0m \u001B[0mdstfn\u001B[0m\u001B[1;33m,\u001B[0m \u001B[0mpwd\u001B[0m\u001B[1;33m,\u001B[0m \u001B[0mset_attrs\u001B[0m\u001B[1;33m)\u001B[0m\u001B[1;33m\u001B[0m\u001B[1;33m\u001B[0m\u001B[0m\n",
      "\u001B[1;32md:\\env\\python3.8\\lib\\site-packages\\rarfile.py\u001B[0m in \u001B[0;36m_make_file\u001B[1;34m(self, info, dstfn, pwd, set_attrs)\u001B[0m\n\u001B[0;32m    923\u001B[0m         \u001B[1;32mdef\u001B[0m \u001B[0mhelper\u001B[0m\u001B[1;33m(\u001B[0m\u001B[0mname\u001B[0m\u001B[1;33m,\u001B[0m \u001B[0mflags\u001B[0m\u001B[1;33m)\u001B[0m\u001B[1;33m:\u001B[0m\u001B[1;33m\u001B[0m\u001B[1;33m\u001B[0m\u001B[0m\n\u001B[0;32m    924\u001B[0m             \u001B[1;32mreturn\u001B[0m \u001B[0mself\u001B[0m\u001B[1;33m.\u001B[0m\u001B[0m_create_helper\u001B[0m\u001B[1;33m(\u001B[0m\u001B[0mname\u001B[0m\u001B[1;33m,\u001B[0m \u001B[0mflags\u001B[0m\u001B[1;33m,\u001B[0m \u001B[0minfo\u001B[0m\u001B[1;33m)\u001B[0m\u001B[1;33m\u001B[0m\u001B[1;33m\u001B[0m\u001B[0m\n\u001B[1;32m--> 925\u001B[1;33m         \u001B[1;32mwith\u001B[0m \u001B[0mself\u001B[0m\u001B[1;33m.\u001B[0m\u001B[0mopen\u001B[0m\u001B[1;33m(\u001B[0m\u001B[0minfo\u001B[0m\u001B[1;33m,\u001B[0m \u001B[1;34m\"r\"\u001B[0m\u001B[1;33m,\u001B[0m \u001B[0mpwd\u001B[0m\u001B[1;33m)\u001B[0m \u001B[1;32mas\u001B[0m \u001B[0msrc\u001B[0m\u001B[1;33m:\u001B[0m\u001B[1;33m\u001B[0m\u001B[1;33m\u001B[0m\u001B[0m\n\u001B[0m\u001B[0;32m    926\u001B[0m             \u001B[1;32mwith\u001B[0m \u001B[0mopen\u001B[0m\u001B[1;33m(\u001B[0m\u001B[0mdstfn\u001B[0m\u001B[1;33m,\u001B[0m \u001B[1;34m\"wb\"\u001B[0m\u001B[1;33m,\u001B[0m \u001B[0mopener\u001B[0m\u001B[1;33m=\u001B[0m\u001B[0mhelper\u001B[0m\u001B[1;33m)\u001B[0m \u001B[1;32mas\u001B[0m \u001B[0mdst\u001B[0m\u001B[1;33m:\u001B[0m\u001B[1;33m\u001B[0m\u001B[1;33m\u001B[0m\u001B[0m\n\u001B[0;32m    927\u001B[0m                 \u001B[0mshutil\u001B[0m\u001B[1;33m.\u001B[0m\u001B[0mcopyfileobj\u001B[0m\u001B[1;33m(\u001B[0m\u001B[0msrc\u001B[0m\u001B[1;33m,\u001B[0m \u001B[0mdst\u001B[0m\u001B[1;33m)\u001B[0m\u001B[1;33m\u001B[0m\u001B[1;33m\u001B[0m\u001B[0m\n",
      "\u001B[1;32md:\\env\\python3.8\\lib\\site-packages\\rarfile.py\u001B[0m in \u001B[0;36mopen\u001B[1;34m(self, name, mode, pwd)\u001B[0m\n\u001B[0;32m    781\u001B[0m             \u001B[0mpwd\u001B[0m \u001B[1;33m=\u001B[0m \u001B[1;32mNone\u001B[0m\u001B[1;33m\u001B[0m\u001B[1;33m\u001B[0m\u001B[0m\n\u001B[0;32m    782\u001B[0m \u001B[1;33m\u001B[0m\u001B[0m\n\u001B[1;32m--> 783\u001B[1;33m         \u001B[1;32mreturn\u001B[0m \u001B[0mself\u001B[0m\u001B[1;33m.\u001B[0m\u001B[0m_file_parser\u001B[0m\u001B[1;33m.\u001B[0m\u001B[0mopen\u001B[0m\u001B[1;33m(\u001B[0m\u001B[0minf\u001B[0m\u001B[1;33m,\u001B[0m \u001B[0mpwd\u001B[0m\u001B[1;33m)\u001B[0m\u001B[1;33m\u001B[0m\u001B[1;33m\u001B[0m\u001B[0m\n\u001B[0m\u001B[0;32m    784\u001B[0m \u001B[1;33m\u001B[0m\u001B[0m\n\u001B[0;32m    785\u001B[0m     \u001B[1;32mdef\u001B[0m \u001B[0mread\u001B[0m\u001B[1;33m(\u001B[0m\u001B[0mself\u001B[0m\u001B[1;33m,\u001B[0m \u001B[0mname\u001B[0m\u001B[1;33m,\u001B[0m \u001B[0mpwd\u001B[0m\u001B[1;33m=\u001B[0m\u001B[1;32mNone\u001B[0m\u001B[1;33m)\u001B[0m\u001B[1;33m:\u001B[0m\u001B[1;33m\u001B[0m\u001B[1;33m\u001B[0m\u001B[0m\n",
      "\u001B[1;32md:\\env\\python3.8\\lib\\site-packages\\rarfile.py\u001B[0m in \u001B[0;36mopen\u001B[1;34m(self, inf, pwd)\u001B[0m\n\u001B[0;32m   1235\u001B[0m             \u001B[1;32mreturn\u001B[0m \u001B[0mself\u001B[0m\u001B[1;33m.\u001B[0m\u001B[0m_open_clear\u001B[0m\u001B[1;33m(\u001B[0m\u001B[0minf\u001B[0m\u001B[1;33m)\u001B[0m\u001B[1;33m\u001B[0m\u001B[1;33m\u001B[0m\u001B[0m\n\u001B[0;32m   1236\u001B[0m         \u001B[1;32melif\u001B[0m \u001B[0muse_hack\u001B[0m\u001B[1;33m:\u001B[0m\u001B[1;33m\u001B[0m\u001B[1;33m\u001B[0m\u001B[0m\n\u001B[1;32m-> 1237\u001B[1;33m             \u001B[1;32mreturn\u001B[0m \u001B[0mself\u001B[0m\u001B[1;33m.\u001B[0m\u001B[0m_open_hack\u001B[0m\u001B[1;33m(\u001B[0m\u001B[0minf\u001B[0m\u001B[1;33m,\u001B[0m \u001B[0mpwd\u001B[0m\u001B[1;33m)\u001B[0m\u001B[1;33m\u001B[0m\u001B[1;33m\u001B[0m\u001B[0m\n\u001B[0m\u001B[0;32m   1238\u001B[0m         \u001B[1;32melif\u001B[0m \u001B[0mis_filelike\u001B[0m\u001B[1;33m(\u001B[0m\u001B[0mself\u001B[0m\u001B[1;33m.\u001B[0m\u001B[0m_rarfile\u001B[0m\u001B[1;33m)\u001B[0m\u001B[1;33m:\u001B[0m\u001B[1;33m\u001B[0m\u001B[1;33m\u001B[0m\u001B[0m\n\u001B[0;32m   1239\u001B[0m             \u001B[1;32mreturn\u001B[0m \u001B[0mself\u001B[0m\u001B[1;33m.\u001B[0m\u001B[0m_open_unrar_membuf\u001B[0m\u001B[1;33m(\u001B[0m\u001B[0mself\u001B[0m\u001B[1;33m.\u001B[0m\u001B[0m_rarfile\u001B[0m\u001B[1;33m,\u001B[0m \u001B[0minf\u001B[0m\u001B[1;33m,\u001B[0m \u001B[0mpwd\u001B[0m\u001B[1;33m)\u001B[0m\u001B[1;33m\u001B[0m\u001B[1;33m\u001B[0m\u001B[0m\n",
      "\u001B[1;32md:\\env\\python3.8\\lib\\site-packages\\rarfile.py\u001B[0m in \u001B[0;36m_open_hack\u001B[1;34m(self, inf, pwd)\u001B[0m\n\u001B[0;32m   1619\u001B[0m         \u001B[1;31m# create main header: crc, type, flags, size, res1, res2\u001B[0m\u001B[1;33m\u001B[0m\u001B[1;33m\u001B[0m\u001B[1;33m\u001B[0m\u001B[0m\n\u001B[0;32m   1620\u001B[0m         \u001B[0mprefix\u001B[0m \u001B[1;33m=\u001B[0m \u001B[0mRAR_ID\u001B[0m \u001B[1;33m+\u001B[0m \u001B[0mS_BLK_HDR\u001B[0m\u001B[1;33m.\u001B[0m\u001B[0mpack\u001B[0m\u001B[1;33m(\u001B[0m\u001B[1;36m0x90CF\u001B[0m\u001B[1;33m,\u001B[0m \u001B[1;36m0x73\u001B[0m\u001B[1;33m,\u001B[0m \u001B[1;36m0\u001B[0m\u001B[1;33m,\u001B[0m \u001B[1;36m13\u001B[0m\u001B[1;33m)\u001B[0m \u001B[1;33m+\u001B[0m \u001B[1;34mb\"\\0\"\u001B[0m \u001B[1;33m*\u001B[0m \u001B[1;33m(\u001B[0m\u001B[1;36m2\u001B[0m \u001B[1;33m+\u001B[0m \u001B[1;36m4\u001B[0m\u001B[1;33m)\u001B[0m\u001B[1;33m\u001B[0m\u001B[1;33m\u001B[0m\u001B[0m\n\u001B[1;32m-> 1621\u001B[1;33m         \u001B[1;32mreturn\u001B[0m \u001B[0mself\u001B[0m\u001B[1;33m.\u001B[0m\u001B[0m_open_hack_core\u001B[0m\u001B[1;33m(\u001B[0m\u001B[0minf\u001B[0m\u001B[1;33m,\u001B[0m \u001B[0mpwd\u001B[0m\u001B[1;33m,\u001B[0m \u001B[0mprefix\u001B[0m\u001B[1;33m,\u001B[0m \u001B[1;34mb\"\"\u001B[0m\u001B[1;33m)\u001B[0m\u001B[1;33m\u001B[0m\u001B[1;33m\u001B[0m\u001B[0m\n\u001B[0m\u001B[0;32m   1622\u001B[0m \u001B[1;33m\u001B[0m\u001B[0m\n\u001B[0;32m   1623\u001B[0m \u001B[1;33m\u001B[0m\u001B[0m\n",
      "\u001B[1;32md:\\env\\python3.8\\lib\\site-packages\\rarfile.py\u001B[0m in \u001B[0;36m_open_hack_core\u001B[1;34m(self, inf, pwd, prefix, suffix)\u001B[0m\n\u001B[0;32m   1273\u001B[0m             \u001B[1;32mraise\u001B[0m\u001B[1;33m\u001B[0m\u001B[1;33m\u001B[0m\u001B[0m\n\u001B[0;32m   1274\u001B[0m \u001B[1;33m\u001B[0m\u001B[0m\n\u001B[1;32m-> 1275\u001B[1;33m         \u001B[1;32mreturn\u001B[0m \u001B[0mself\u001B[0m\u001B[1;33m.\u001B[0m\u001B[0m_open_unrar\u001B[0m\u001B[1;33m(\u001B[0m\u001B[0mtmpname\u001B[0m\u001B[1;33m,\u001B[0m \u001B[0minf\u001B[0m\u001B[1;33m,\u001B[0m \u001B[0mpwd\u001B[0m\u001B[1;33m,\u001B[0m \u001B[0mtmpname\u001B[0m\u001B[1;33m)\u001B[0m\u001B[1;33m\u001B[0m\u001B[1;33m\u001B[0m\u001B[0m\n\u001B[0m\u001B[0;32m   1276\u001B[0m \u001B[1;33m\u001B[0m\u001B[0m\n\u001B[0;32m   1277\u001B[0m     \u001B[1;32mdef\u001B[0m \u001B[0m_open_unrar_membuf\u001B[0m\u001B[1;33m(\u001B[0m\u001B[0mself\u001B[0m\u001B[1;33m,\u001B[0m \u001B[0mmemfile\u001B[0m\u001B[1;33m,\u001B[0m \u001B[0minf\u001B[0m\u001B[1;33m,\u001B[0m \u001B[0mpwd\u001B[0m\u001B[1;33m)\u001B[0m\u001B[1;33m:\u001B[0m\u001B[1;33m\u001B[0m\u001B[1;33m\u001B[0m\u001B[0m\n",
      "\u001B[1;32md:\\env\\python3.8\\lib\\site-packages\\rarfile.py\u001B[0m in \u001B[0;36m_open_unrar\u001B[1;34m(self, rarfile, inf, pwd, tmpfile, force_file)\u001B[0m\n\u001B[0;32m   1284\u001B[0m         \"\"\"Extract using unrar\n\u001B[0;32m   1285\u001B[0m         \"\"\"\n\u001B[1;32m-> 1286\u001B[1;33m         \u001B[0msetup\u001B[0m \u001B[1;33m=\u001B[0m \u001B[0mtool_setup\u001B[0m\u001B[1;33m(\u001B[0m\u001B[1;33m)\u001B[0m\u001B[1;33m\u001B[0m\u001B[1;33m\u001B[0m\u001B[0m\n\u001B[0m\u001B[0;32m   1287\u001B[0m \u001B[1;33m\u001B[0m\u001B[0m\n\u001B[0;32m   1288\u001B[0m         \u001B[1;31m# not giving filename avoids encoding related problems\u001B[0m\u001B[1;33m\u001B[0m\u001B[1;33m\u001B[0m\u001B[1;33m\u001B[0m\u001B[0m\n",
      "\u001B[1;32md:\\env\\python3.8\\lib\\site-packages\\rarfile.py\u001B[0m in \u001B[0;36mtool_setup\u001B[1;34m(unrar, unar, bsdtar, force)\u001B[0m\n\u001B[0;32m   3329\u001B[0m             \u001B[1;32mbreak\u001B[0m\u001B[1;33m\u001B[0m\u001B[1;33m\u001B[0m\u001B[0m\n\u001B[0;32m   3330\u001B[0m     \u001B[1;32mif\u001B[0m \u001B[0mCURRENT_SETUP\u001B[0m \u001B[1;32mis\u001B[0m \u001B[1;32mNone\u001B[0m\u001B[1;33m:\u001B[0m\u001B[1;33m\u001B[0m\u001B[1;33m\u001B[0m\u001B[0m\n\u001B[1;32m-> 3331\u001B[1;33m         \u001B[1;32mraise\u001B[0m \u001B[0mRarCannotExec\u001B[0m\u001B[1;33m(\u001B[0m\u001B[1;34m\"Cannot find working tool\"\u001B[0m\u001B[1;33m)\u001B[0m\u001B[1;33m\u001B[0m\u001B[1;33m\u001B[0m\u001B[0m\n\u001B[0m\u001B[0;32m   3332\u001B[0m     \u001B[1;32mreturn\u001B[0m \u001B[0mCURRENT_SETUP\u001B[0m\u001B[1;33m\u001B[0m\u001B[1;33m\u001B[0m\u001B[0m\n\u001B[0;32m   3333\u001B[0m \u001B[1;33m\u001B[0m\u001B[0m\n",
      "\u001B[1;31mRarCannotExec\u001B[0m: Cannot find working tool"
     ]
    }
   ],
   "source": [
    "# Download the Cognitive Diagnosis Benchmark Datasets (CDBD)\n",
    "from EduData import get_data\n",
    "\n",
    "get_data(\"math2015\", \"../../../data\")"
   ]
  },
  {
   "cell_type": "code",
   "execution_count": null,
   "metadata": {},
   "outputs": [],
   "source": [
    "# Data preprocessing, split train/valid/test data\n",
    "\n",
    "import numpy as np\n",
    "import random\n",
    "import json\n",
    "\n",
    "train_ratio = 0.8\n",
    "valid_ratio = 0\n",
    "# Q matrix\n",
    "np.savetxt(\"../../../data/math2015/Math1/q_m.csv\", np.loadtxt(\"../../../data/math2015/Math1/q.txt\", dtype=int), delimiter=',', fmt='%d')\n",
    "\n",
    "# response matrix, split dataset\n",
    "R = (np.loadtxt(\"../../../data/math2015/Math1/data.txt\") == 1).astype(float)\n",
    "stu_num, prob_num = R.shape[0], R.shape[1]\n",
    "train_logs, valid_logs, test_logs = [], [], []\n",
    "for stu in range(stu_num):\n",
    "    stu_logs = []\n",
    "    for prob in range(prob_num):\n",
    "        log = {'user_id': int(stu), 'item_id': int(prob), 'score': R[stu][prob]}\n",
    "        stu_logs.append(log)\n",
    "    random.shuffle(stu_logs)\n",
    "    train_logs += stu_logs[: int(train_ratio * prob_num)]\n",
    "    valid_logs += stu_logs[int(train_ratio * prob_num): int(train_ratio * prob_num) + int(valid_ratio * prob_num)]\n",
    "    test_logs += stu_logs[int(train_ratio * prob_num) + int(valid_ratio * prob_num):]\n",
    "\n",
    "with open(\"../../../data/math2015/Math1/train_data.json\", 'w', encoding='utf8') as file:\n",
    "    json.dump(train_logs, file, indent=4, ensure_ascii=False)\n",
    "with open(\"../../../data/math2015/Math1/valid_data.json\", 'w', encoding='utf8') as file:\n",
    "    json.dump(valid_logs, file, indent=4, ensure_ascii=False)\n",
    "with open(\"../../../data/math2015/Math1/test_data.json\", 'w', encoding='utf8') as file:\n",
    "    json.dump(test_logs, file, indent=4, ensure_ascii=False)\n",
    "\n",
    "print(train_logs[0], test_logs[0])"
   ]
  },
  {
   "cell_type": "code",
   "execution_count": null,
   "metadata": {},
   "outputs": [],
   "source": []
  }
 ],
 "metadata": {
  "kernelspec": {
   "display_name": "Python 3",
   "language": "python",
   "name": "python3"
  },
  "language_info": {
   "codemirror_mode": {
    "name": "ipython",
    "version": 3
   },
   "file_extension": ".py",
   "mimetype": "text/x-python",
   "name": "python",
   "nbconvert_exporter": "python",
   "pygments_lexer": "ipython3",
   "version": "3.7.3"
  }
 },
 "nbformat": 4,
 "nbformat_minor": 1
}