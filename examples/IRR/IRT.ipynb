{
 "cells": [
  {
   "cell_type": "markdown",
   "source": [
    "# Item Response Ranking for IRT\n",
    "\n",
    "This notebook will show you how to train and use the IRR-IRT.\n",
    "Refer to [IRR doc](../../docs/IRR.md) for more details.\n",
    "First, we will show how to get the data (here we use a0910 as the dataset).\n",
    "Then we will show how to train a IRR-IRT and perform the parameters persistence.\n",
    "At last, we will show how to load the parameters from the file and evaluate on the test dataset."
   ],
   "metadata": {
    "collapsed": false,
    "pycharm": {
     "name": "#%% md\n"
    }
   }
  },
  {
   "cell_type": "code",
   "execution_count": 7,
   "metadata": {
    "collapsed": true
   },
   "outputs": [
    {
     "name": "stderr",
     "output_type": "stream",
     "text": [
      "reading records from ../../data/a0910/item.csv: 100%|██████████| 19529/19529 [00:00<00:00, 52918.35it/s]\n",
      "rating2triplet: 100%|██████████| 17051/17051 [00:21<00:00, 805.56it/s]\n"
     ]
    },
    {
     "data": {
      "text/plain": "(<longling.lib.iterator.AsyncLoopIter at 0x2133cafa400>,\n <torch.utils.data.dataloader.DataLoader at 0x2133d895a30>,\n <torch.utils.data.dataloader.DataLoader at 0x2133c9ba2b0>)"
     },
     "execution_count": 7,
     "metadata": {},
     "output_type": "execute_result"
    }
   ],
   "source": [
    "import logging\n",
    "from longling.lib.structure import AttrDict\n",
    "from longling import set_logging_info\n",
    "from EduCDM.IRR import pair_etl as etl, point_etl as vt_etl, extract_item\n",
    "\n",
    "set_logging_info()\n",
    "\n",
    "params = AttrDict(\n",
    "    batch_size=256,\n",
    "    n_neg=10,\n",
    "    n_imp=10,\n",
    "    logger=logging.getLogger(),\n",
    "    hyper_params={\"user_num\": 4164}\n",
    ")\n",
    "item_knowledge = extract_item(\"../../data/a0910/item.csv\", 123, params)\n",
    "train_data, train_df = etl(\"../../data/a0910/train.csv\", item_knowledge, params)\n",
    "valid_data, _ = vt_etl(\"../../data/a0910/valid.csv\", item_knowledge, params)\n",
    "test_data, _ = vt_etl(\"../../data/a0910/test.csv\", item_knowledge, params)\n",
    "\n",
    "train_data, valid_data, test_data"
   ]
  },
  {
   "cell_type": "code",
   "execution_count": 8,
   "outputs": [
    {
     "data": {
      "text/plain": "        user_id  item_id  score\n0          1615    12977    1.0\n1           782    13124    0.0\n2          1084    16475    0.0\n3           593     8690    0.0\n4           127    14225    1.0\n...         ...      ...    ...\n186044     2280     6019    0.0\n186045      121        2    1.0\n186046      601     5425    1.0\n186047      573     2412    0.0\n186048       60     2969    1.0\n\n[186049 rows x 3 columns]",
      "text/html": "<div>\n<style scoped>\n    .dataframe tbody tr th:only-of-type {\n        vertical-align: middle;\n    }\n\n    .dataframe tbody tr th {\n        vertical-align: top;\n    }\n\n    .dataframe thead th {\n        text-align: right;\n    }\n</style>\n<table border=\"1\" class=\"dataframe\">\n  <thead>\n    <tr style=\"text-align: right;\">\n      <th></th>\n      <th>user_id</th>\n      <th>item_id</th>\n      <th>score</th>\n    </tr>\n  </thead>\n  <tbody>\n    <tr>\n      <th>0</th>\n      <td>1615</td>\n      <td>12977</td>\n      <td>1.0</td>\n    </tr>\n    <tr>\n      <th>1</th>\n      <td>782</td>\n      <td>13124</td>\n      <td>0.0</td>\n    </tr>\n    <tr>\n      <th>2</th>\n      <td>1084</td>\n      <td>16475</td>\n      <td>0.0</td>\n    </tr>\n    <tr>\n      <th>3</th>\n      <td>593</td>\n      <td>8690</td>\n      <td>0.0</td>\n    </tr>\n    <tr>\n      <th>4</th>\n      <td>127</td>\n      <td>14225</td>\n      <td>1.0</td>\n    </tr>\n    <tr>\n      <th>...</th>\n      <td>...</td>\n      <td>...</td>\n      <td>...</td>\n    </tr>\n    <tr>\n      <th>186044</th>\n      <td>2280</td>\n      <td>6019</td>\n      <td>0.0</td>\n    </tr>\n    <tr>\n      <th>186045</th>\n      <td>121</td>\n      <td>2</td>\n      <td>1.0</td>\n    </tr>\n    <tr>\n      <th>186046</th>\n      <td>601</td>\n      <td>5425</td>\n      <td>1.0</td>\n    </tr>\n    <tr>\n      <th>186047</th>\n      <td>573</td>\n      <td>2412</td>\n      <td>0.0</td>\n    </tr>\n    <tr>\n      <th>186048</th>\n      <td>60</td>\n      <td>2969</td>\n      <td>1.0</td>\n    </tr>\n  </tbody>\n</table>\n<p>186049 rows × 3 columns</p>\n</div>"
     },
     "execution_count": 8,
     "metadata": {},
     "output_type": "execute_result"
    }
   ],
   "source": [
    "train_df"
   ],
   "metadata": {
    "collapsed": false,
    "pycharm": {
     "name": "#%%\n"
    }
   }
  },
  {
   "cell_type": "code",
   "execution_count": 9,
   "outputs": [
    {
     "name": "stderr",
     "output_type": "stream",
     "text": [
      "Epoch 0: 727it [02:02,  5.92it/s]\n",
      "evaluating: 100%|██████████| 101/101 [00:01<00:00, 78.62it/s]\n",
      "formatting item df: 100%|██████████| 10415/10415 [00:01<00:00, 9749.68it/s]\n",
      "ranking metrics: 10415it [00:40, 254.13it/s]\n",
      "Epoch 1: 100%|██████████| 727/727 [02:01<00:00,  5.97it/s]\n",
      "evaluating: 100%|██████████| 101/101 [00:01<00:00, 82.20it/s]\n",
      "formatting item df: 100%|██████████| 10415/10415 [00:01<00:00, 9593.92it/s]\n",
      "ranking metrics: 10415it [00:42, 246.39it/s]\n",
      "INFO:root:save parameters to IRR-IRT.params\n"
     ]
    },
    {
     "name": "stdout",
     "output_type": "stream",
     "text": [
      "[Epoch 0] Loss: 6.042366, PointLoss: 0.676846, PairLoss: 11.407887\n",
      "[Epoch 0]\n",
      "      ndcg@k  precision@k  recall@k      f1@k     len@k  support@k  ndcg@k(B)  \\\n",
      "1   1.000000     0.674988  0.475920  0.527342  1.000000      10415   1.000000   \n",
      "3   0.891091     0.674540  0.737472  0.685684  1.906961      10415   0.416033   \n",
      "5   0.893729     0.674165  0.794214  0.711436  2.229573      10415   0.424743   \n",
      "10  0.893938     0.673999  0.816025  0.720019  2.423428      10415   0.425957   \n",
      "\n",
      "    precision@k(B)  recall@k(B)   f1@k(B)  len@k(B)  support@k(B)  \n",
      "1         0.326452     0.253676  0.273340       1.0         10415  \n",
      "3         0.211522     0.434936  0.268588       3.0         10415  \n",
      "5         0.149304     0.481618  0.215243       5.0         10415  \n",
      "10        0.082180     0.502223  0.134561      10.0         10415  \n",
      "auc: 0.839379\tmap: 0.912738\tmrr: 0.904580\tcoverage_error: 3.005876\tranking_loss: 0.281039\tlen: 2.458569\tsupport: 10415\tmap(B): 0.888846\tmrr(B): 0.902716\n",
      "[Epoch 1] Loss: 6.027494, PointLoss: 0.658067, PairLoss: 11.396921\n",
      "[Epoch 1]\n",
      "      ndcg@k  precision@k  recall@k      f1@k     len@k  support@k  ndcg@k(B)  \\\n",
      "1   1.000000     0.677196  0.476987  0.528690  1.000000      10415   1.000000   \n",
      "3   0.891640     0.674220  0.737001  0.685327  1.906961      10415   0.414967   \n",
      "5   0.894143     0.674108  0.793993  0.711313  2.229573      10415   0.424384   \n",
      "10  0.894282     0.674037  0.816083  0.720065  2.423428      10415   0.425646   \n",
      "\n",
      "    precision@k(B)  recall@k(B)   f1@k(B)  len@k(B)  support@k(B)  \n",
      "1         0.325780     0.253551  0.273017       1.0         10415  \n",
      "3         0.211426     0.433608  0.268138       3.0         10415  \n",
      "5         0.149458     0.481781  0.215406       5.0         10415  \n",
      "10        0.082199     0.502331  0.134602      10.0         10415  \n",
      "auc: 0.839306\tmap: 0.912996\tmrr: 0.905877\tcoverage_error: 3.007220\tranking_loss: 0.281167\tlen: 2.458569\tsupport: 10415\tmap(B): 0.888498\tmrr(B): 0.903218\n"
     ]
    }
   ],
   "source": [
    "from EduCDM.IRR import IRT\n",
    "\n",
    "cdm = IRT(\n",
    "    4163 + 1,\n",
    "    17746 + 1,\n",
    "    123\n",
    ")\n",
    "cdm.train(\n",
    "    train_data,\n",
    "    valid_data,\n",
    "    epoch=2,\n",
    ")\n",
    "cdm.save(\"IRR-IRT.params\")"
   ],
   "metadata": {
    "collapsed": false,
    "pycharm": {
     "name": "#%%\n"
    }
   }
  },
  {
   "cell_type": "code",
   "execution_count": 10,
   "outputs": [
    {
     "name": "stderr",
     "output_type": "stream",
     "text": [
      "INFO:root:load parameters from IRR-IRT.params\n",
      "evaluating: 100%|██████████| 218/218 [00:01<00:00, 162.75it/s]\n",
      "formatting item df: 100%|██████████| 13682/13682 [00:01<00:00, 8991.02it/s]\n",
      "ranking metrics: 13682it [01:00, 227.23it/s]\n"
     ]
    },
    {
     "name": "stdout",
     "output_type": "stream",
     "text": [
      "      ndcg@k  precision@k  recall@k      f1@k     len@k  support@k  ndcg@k(B)  \\\n",
      "1   1.000000     0.668981  0.370194  0.434254  1.000000      13682   1.000000   \n",
      "3   0.861122     0.668993  0.663701  0.634487  2.268528      13682   0.447512   \n",
      "5   0.868104     0.668187  0.770498  0.690224  2.981582      13682   0.467525   \n",
      "10  0.869298     0.667871  0.844868  0.723768  3.723652      13682   0.472620   \n",
      "\n",
      "    precision@k(B)  recall@k(B)   f1@k(B)  len@k(B)  support@k(B)  \n",
      "1         0.333065     0.215427  0.243171       1.0         13682  \n",
      "3         0.250597     0.420785  0.286807       3.0         13682  \n",
      "5         0.200746     0.511538  0.263657       5.0         13682  \n",
      "10        0.127386     0.579823  0.192924      10.0         13682  \n",
      "auc: 0.768879\tmap: 0.869789\tmrr: 0.872195\tcoverage_error: 4.651518\tranking_loss: 0.318189\tlen: 4.075428\tsupport: 13682\tmap(B): 0.818462\tmrr(B): 0.871107\n"
     ]
    }
   ],
   "source": [
    "from EduCDM.IRR.metrics import result_format\n",
    "cdm.load(\"IRR-IRT.params\")\n",
    "print(result_format(cdm.eval(test_data)))"
   ],
   "metadata": {
    "collapsed": false,
    "pycharm": {
     "name": "#%%\n"
    }
   }
  }
 ],
 "metadata": {
  "kernelspec": {
   "display_name": "Python 3",
   "language": "python",
   "name": "python3"
  },
  "language_info": {
   "codemirror_mode": {
    "name": "ipython",
    "version": 2
   },
   "file_extension": ".py",
   "mimetype": "text/x-python",
   "name": "python",
   "nbconvert_exporter": "python",
   "pygments_lexer": "ipython2",
   "version": "2.7.6"
  }
 },
 "nbformat": 4,
 "nbformat_minor": 0
}