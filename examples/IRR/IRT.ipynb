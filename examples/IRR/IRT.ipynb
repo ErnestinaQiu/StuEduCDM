{
 "cells": [
  {
   "cell_type": "markdown",
   "source": [
    "# Item Response Ranking for IRT\n",
    "\n",
    "This notebook will show you how to train and use the IRR-IRT.\n",
    "Refer to [IRR doc](../../docs/IRR.md) for more details.\n",
    "First, we will show how to get the data (here we use a0910 as the dataset).\n",
    "Then we will show how to train a IRR-IRT and perform the parameters persistence.\n",
    "At last, we will show how to load the parameters from the file and evaluate on the test dataset."
   ],
   "metadata": {
    "collapsed": false,
    "pycharm": {
     "name": "#%% md\n"
    }
   }
  },
  {
   "cell_type": "code",
   "execution_count": 1,
   "metadata": {
    "collapsed": true
   },
   "outputs": [
    {
     "name": "stderr",
     "output_type": "stream",
     "text": [
      "reading records from ../../data/a0910/item.csv: 100%|██████████| 19529/19529 [00:00<00:00, 56917.24it/s]\n",
      "rating2triplet: 100%|██████████| 17051/17051 [00:15<00:00, 1084.01it/s]\n"
     ]
    },
    {
     "data": {
      "text/plain": "(<longling.lib.iterator.AsyncLoopIter at 0x21339b3f790>,\n <torch.utils.data.dataloader.DataLoader at 0x213360c2070>,\n <torch.utils.data.dataloader.DataLoader at 0x21339bf1040>)"
     },
     "execution_count": 1,
     "metadata": {},
     "output_type": "execute_result"
    }
   ],
   "source": [
    "import logging\n",
    "from longling.lib.structure import AttrDict\n",
    "from longling import set_logging_info\n",
    "from EduCDM.IRR import pair_etl as etl, point_etl as vt_etl, extract_item\n",
    "\n",
    "set_logging_info()\n",
    "\n",
    "params = AttrDict(\n",
    "    batch_size=256,\n",
    "    n_neg=10,\n",
    "    n_imp=10,\n",
    "    logger=logging.getLogger(),\n",
    "    hyper_params={\"user_num\": 4164}\n",
    ")\n",
    "item_knowledge = extract_item(\"../../data/a0910/item.csv\", 123, params)\n",
    "train_data, train_df = etl(\"../../data/a0910/train.csv\", item_knowledge, params)\n",
    "valid_data, _ = vt_etl(\"../../data/a0910/valid.csv\", item_knowledge, params)\n",
    "test_data, _ = vt_etl(\"../../data/a0910/test.csv\", item_knowledge, params)\n",
    "\n",
    "train_data, valid_data, test_data"
   ]
  },
  {
   "cell_type": "code",
   "execution_count": 2,
   "outputs": [
    {
     "data": {
      "text/plain": "        user_id  item_id  score\n0          1615    12977    1.0\n1           782    13124    0.0\n2          1084    16475    0.0\n3           593     8690    0.0\n4           127    14225    1.0\n...         ...      ...    ...\n186044     2280     6019    0.0\n186045      121        2    1.0\n186046      601     5425    1.0\n186047      573     2412    0.0\n186048       60     2969    1.0\n\n[186049 rows x 3 columns]",
      "text/html": "<div>\n<style scoped>\n    .dataframe tbody tr th:only-of-type {\n        vertical-align: middle;\n    }\n\n    .dataframe tbody tr th {\n        vertical-align: top;\n    }\n\n    .dataframe thead th {\n        text-align: right;\n    }\n</style>\n<table border=\"1\" class=\"dataframe\">\n  <thead>\n    <tr style=\"text-align: right;\">\n      <th></th>\n      <th>user_id</th>\n      <th>item_id</th>\n      <th>score</th>\n    </tr>\n  </thead>\n  <tbody>\n    <tr>\n      <th>0</th>\n      <td>1615</td>\n      <td>12977</td>\n      <td>1.0</td>\n    </tr>\n    <tr>\n      <th>1</th>\n      <td>782</td>\n      <td>13124</td>\n      <td>0.0</td>\n    </tr>\n    <tr>\n      <th>2</th>\n      <td>1084</td>\n      <td>16475</td>\n      <td>0.0</td>\n    </tr>\n    <tr>\n      <th>3</th>\n      <td>593</td>\n      <td>8690</td>\n      <td>0.0</td>\n    </tr>\n    <tr>\n      <th>4</th>\n      <td>127</td>\n      <td>14225</td>\n      <td>1.0</td>\n    </tr>\n    <tr>\n      <th>...</th>\n      <td>...</td>\n      <td>...</td>\n      <td>...</td>\n    </tr>\n    <tr>\n      <th>186044</th>\n      <td>2280</td>\n      <td>6019</td>\n      <td>0.0</td>\n    </tr>\n    <tr>\n      <th>186045</th>\n      <td>121</td>\n      <td>2</td>\n      <td>1.0</td>\n    </tr>\n    <tr>\n      <th>186046</th>\n      <td>601</td>\n      <td>5425</td>\n      <td>1.0</td>\n    </tr>\n    <tr>\n      <th>186047</th>\n      <td>573</td>\n      <td>2412</td>\n      <td>0.0</td>\n    </tr>\n    <tr>\n      <th>186048</th>\n      <td>60</td>\n      <td>2969</td>\n      <td>1.0</td>\n    </tr>\n  </tbody>\n</table>\n<p>186049 rows × 3 columns</p>\n</div>"
     },
     "execution_count": 2,
     "metadata": {},
     "output_type": "execute_result"
    }
   ],
   "source": [
    "train_df"
   ],
   "metadata": {
    "collapsed": false,
    "pycharm": {
     "name": "#%%\n"
    }
   }
  },
  {
   "cell_type": "code",
   "execution_count": 3,
   "outputs": [
    {
     "name": "stderr",
     "output_type": "stream",
     "text": [
      "Epoch 0: 727it [01:33,  7.75it/s]\n",
      "evaluating: 100%|██████████| 101/101 [00:00<00:00, 105.09it/s]\n",
      "formatting item df: 100%|██████████| 10415/10415 [00:00<00:00, 12372.72it/s]\n",
      "ranking metrics: 10415it [00:30, 339.73it/s]\n",
      "Epoch 1: 100%|██████████| 727/727 [01:32<00:00,  7.85it/s]\n",
      "evaluating: 100%|██████████| 101/101 [00:00<00:00, 114.54it/s]\n",
      "formatting item df: 100%|██████████| 10415/10415 [00:00<00:00, 12163.67it/s]\n",
      "ranking metrics: 10415it [00:30, 345.54it/s]\n"
     ]
    },
    {
     "name": "stdout",
     "output_type": "stream",
     "text": [
      "[Epoch 0] Loss: 6.039850, PointLoss: 0.674785, PairLoss: 11.404916\n",
      "[Epoch 0]\n",
      "      ndcg@k  precision@k  recall@k      f1@k     len@k  support@k  ndcg@k(B)  \\\n",
      "1   1.000000     0.674796  0.474262  0.526246  1.000000      10415   1.000000   \n",
      "3   0.890374     0.674828  0.737278  0.685842  1.906961      10415   0.416909   \n",
      "5   0.893487     0.674204  0.794263  0.711467  2.229573      10415   0.425199   \n",
      "10  0.893582     0.673970  0.815999  0.719991  2.423428      10415   0.426647   \n",
      "\n",
      "    precision@k(B)  recall@k(B)   f1@k(B)  len@k(B)  support@k(B)  \n",
      "1         0.328277     0.255120  0.275113       1.0         10415  \n",
      "3         0.211042     0.434478  0.268160       3.0         10415  \n",
      "5         0.149650     0.481674  0.215526       5.0         10415  \n",
      "10        0.082141     0.502023  0.134496      10.0         10415  \n",
      "auc: 0.839144\tmap: 0.912163\tmrr: 0.904479\tcoverage_error: 3.005709\tranking_loss: 0.281795\tlen: 2.458569\tsupport: 10415\tmap(B): 0.889633\tmrr(B): 0.902134\n",
      "[Epoch 1] Loss: 6.025793, PointLoss: 0.656452, PairLoss: 11.395134\n",
      "[Epoch 1]\n",
      "      ndcg@k  precision@k  recall@k      f1@k     len@k  support@k  ndcg@k(B)  \\\n",
      "1   1.000000     0.675756  0.475430  0.527334  1.000000      10415   1.000000   \n",
      "3   0.890988     0.675116  0.737733  0.686174  1.906961      10415   0.416907   \n",
      "5   0.893823     0.674127  0.794139  0.711379  2.229573      10415   0.425226   \n",
      "10  0.894040     0.673989  0.816023  0.720012  2.423428      10415   0.426750   \n",
      "\n",
      "    precision@k(B)  recall@k(B)   f1@k(B)  len@k(B)  support@k(B)  \n",
      "1         0.328373     0.255884  0.275696       1.0         10415  \n",
      "3         0.211042     0.434433  0.268116       3.0         10415  \n",
      "5         0.149746     0.481734  0.215619       5.0         10415  \n",
      "10        0.082141     0.502002  0.134500      10.0         10415  \n",
      "auc: 0.840132\tmap: 0.912805\tmrr: 0.905053\tcoverage_error: 3.006716\tranking_loss: 0.279974\tlen: 2.458569\tsupport: 10415\tmap(B): 0.889936\tmrr(B): 0.902075\n"
     ]
    }
   ],
   "source": [
    "from EduCDM.IRR import IRT\n",
    "\n",
    "cdm = IRT(\n",
    "    4163 + 1,\n",
    "    17746 + 1,\n",
    "    123\n",
    ")\n",
    "cdm.train(\n",
    "    train_data,\n",
    "    valid_data,\n",
    "    epoch=2,\n",
    ")\n",
    "cdm.save(\"IRR-IRT.params\")"
   ],
   "metadata": {
    "collapsed": false,
    "pycharm": {
     "name": "#%%\n"
    }
   }
  },
  {
   "cell_type": "code",
   "execution_count": 6,
   "outputs": [
    {
     "name": "stderr",
     "output_type": "stream",
     "text": [
      "evaluating: 100%|██████████| 218/218 [00:00<00:00, 235.21it/s]\n",
      "formatting item df: 100%|██████████| 13682/13682 [00:01<00:00, 12473.67it/s]\n",
      "ranking metrics: 13682it [00:43, 312.27it/s]\n"
     ]
    },
    {
     "name": "stdout",
     "output_type": "stream",
     "text": [
      "      ndcg@k  precision@k  recall@k      f1@k     len@k  support@k  ndcg@k(B)  \\\n",
      "1   1.000000     0.667666  0.369623  0.433539  1.000000      13682   1.000000   \n",
      "3   0.859902     0.667556  0.661748  0.632971  2.268528      13682   0.447393   \n",
      "5   0.866905     0.667895  0.770354  0.690166  2.981582      13682   0.466546   \n",
      "10  0.868267     0.667864  0.845262  0.723902  3.723652      13682   0.472685   \n",
      "\n",
      "    precision@k(B)  recall@k(B)   f1@k(B)  len@k(B)  support@k(B)  \n",
      "1         0.332773     0.215246  0.242867       1.0         13682  \n",
      "3         0.252351     0.421886  0.288129       3.0         13682  \n",
      "5         0.200278     0.509787  0.262800       5.0         13682  \n",
      "10        0.127204     0.579789  0.192704      10.0         13682  \n",
      "auc: 0.767497\tmap: 0.868629\tmrr: 0.870646\tcoverage_error: 4.649708\tranking_loss: 0.320000\tlen: 4.075428\tsupport: 13682\tmap(B): 0.818432\tmrr(B): 0.870910\n"
     ]
    }
   ],
   "source": [
    "from EduCDM.IRR.metrics import result_format\n",
    "cdm.load(\"IRR-IRT.params\")\n",
    "print(result_format(cdm.eval(test_data)))"
   ],
   "metadata": {
    "collapsed": false,
    "pycharm": {
     "name": "#%%\n"
    }
   }
  }
 ],
 "metadata": {
  "kernelspec": {
   "display_name": "Python 3",
   "language": "python",
   "name": "python3"
  },
  "language_info": {
   "codemirror_mode": {
    "name": "ipython",
    "version": 2
   },
   "file_extension": ".py",
   "mimetype": "text/x-python",
   "name": "python",
   "nbconvert_exporter": "python",
   "pygments_lexer": "ipython2",
   "version": "2.7.6"
  }
 },
 "nbformat": 4,
 "nbformat_minor": 0
}